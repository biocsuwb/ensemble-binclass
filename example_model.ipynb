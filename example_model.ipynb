{
 "cells": [
  {
   "cell_type": "markdown",
   "source": [
    "Import package"
   ],
   "metadata": {
    "collapsed": false
   },
   "id": "28632e96f1e679ef"
  },
  {
   "cell_type": "code",
   "source": [
    "from ensbinclass import preprocessing as pre\n",
    "from ensbinclass import featureSelection as fs\n",
    "from ensbinclass import classifier as cl\n",
    "from ensbinclass import ensemble as ens"
   ],
   "metadata": {
    "collapsed": false,
    "ExecuteTime": {
     "end_time": "2025-10-20T14:12:59.691708Z",
     "start_time": "2025-10-20T14:12:59.686678Z"
    }
   },
   "id": "31612dab19136467",
   "outputs": [],
   "execution_count": 3
  },
  {
   "cell_type": "code",
   "source": [
    "import numpy as np\n",
    "np.random.seed(42)"
   ],
   "metadata": {
    "collapsed": false,
    "ExecuteTime": {
     "end_time": "2025-10-20T14:13:01.299762Z",
     "start_time": "2025-10-20T14:13:01.293780Z"
    }
   },
   "id": "97b2c3923163558f",
   "outputs": [],
   "execution_count": 4
  },
  {
   "cell_type": "code",
   "source": [
    "pr = pre.DataPreprocessing()\n",
    "pr.load_data('test_data/exampleData_TCGA_LUAD_2000.csv')\n",
    "pr.show_data()"
   ],
   "metadata": {
    "collapsed": false,
    "ExecuteTime": {
     "end_time": "2025-10-20T14:13:20.787852Z",
     "start_time": "2025-10-20T14:13:19.805223Z"
    }
   },
   "id": "46cef20efc2ab8b2",
   "outputs": [
    {
     "name": "stdout",
     "output_type": "stream",
     "text": [
      "All columns are numeric\n",
      "   class      SFTPC     SLC6A4     CLDN18       AGER     ITLN2       LGI3  \\\n",
      "0      0  19.565434  11.948064  14.314268  15.756623  9.202700  11.049183   \n",
      "1      0  18.824004  12.127599  14.107543  14.666530  7.496016  10.956929   \n",
      "2      0  18.541982  11.717890  13.501939  14.938679  8.440654   9.740685   \n",
      "3      0  18.834542   8.590520  14.136818  14.011273  7.259753  10.837580   \n",
      "4      0  18.988565  10.902216  13.828533  15.863138  9.767983  11.351842   \n",
      "\n",
      "   C13orf36    FAM83A      FABP4  ...      NEXN     RASSF8      NKD1  \\\n",
      "0  7.818923  4.642644  12.009267  ...  9.059099   9.661631  7.501577   \n",
      "1  5.994559  4.397002  13.407288  ...  8.334598   9.468622  5.375092   \n",
      "2  7.331127  1.885184  13.957463  ...  9.298702   9.831359  7.455912   \n",
      "3  4.755828  3.122491   8.505092  ...  7.241495   9.734491  4.948227   \n",
      "4  9.122156  5.235413  10.818281  ...  9.521703  10.004926  8.256334   \n",
      "\n",
      "     PLEKHH2      EDN2     WDR86    CHRNB4     RNF128  C11orf21     APOLD1  \n",
      "0   9.103012  2.953098  4.219718  0.459117   9.332455  6.570504   9.026301  \n",
      "1   8.509454  5.702741  4.540306  0.790605   9.044078  7.632262   8.920245  \n",
      "2   8.642816  6.183097  5.274858  0.621806   8.867469  5.514766   9.829651  \n",
      "3   8.501261  3.122491  2.761647  0.000000   9.414210  4.755828  10.110224  \n",
      "4  10.130015  1.345283  4.646168  1.158789  10.130412  5.370506  10.078726  \n",
      "\n",
      "[5 rows x 2001 columns]\n"
     ]
    }
   ],
   "execution_count": 7
  },
  {
   "metadata": {
    "ExecuteTime": {
     "end_time": "2025-10-20T14:13:11.157401Z",
     "start_time": "2025-10-20T14:13:06.823917Z"
    }
   },
   "cell_type": "code",
   "source": [
    "pr = pre.DataPreprocessing()\n",
    "pr.load_data('test_data/data.train.SM_by_sex.csv')\n",
    "pr.show_data()"
   ],
   "id": "fea076fc7dd4c01f",
   "outputs": [
    {
     "name": "stdout",
     "output_type": "stream",
     "text": [
      "All columns are numeric\n",
      "   Unnamed: 0  class   X2315252   X2315374    X2315586    X2315638  \\\n",
      "0         813      0  25.540810  69.119637  147.258072  198.511459   \n",
      "1         812      0  18.860638  54.090511  163.153717  204.175598   \n",
      "2         806      0  15.028817  47.893856   92.686630  228.351349   \n",
      "3         800      0  17.168375  58.677734  143.324387  168.731659   \n",
      "4         798      0  14.756066  76.470932  175.490799  204.933823   \n",
      "\n",
      "     X2315690    X2315741    X2315896   X2315938  ...   X3931641    X3948938  \\\n",
      "0  124.505341  155.552521  225.493805  55.405968  ...  37.495464  167.333923   \n",
      "1  134.311157  157.616333  267.594757  75.593033  ...  35.547607  157.591126   \n",
      "2  106.082451  119.468994  192.104782  44.246822  ...  34.991562  119.812981   \n",
      "3  114.860771  126.148117  207.840530  62.924339  ...  29.837648  128.944046   \n",
      "4  139.986298  154.221649  216.028702  76.746902  ...  38.587887  124.418228   \n",
      "\n",
      "    X3981751   X4000486   X4017141   X4036313    X4038025    X4038031  \\\n",
      "0  33.498634   7.664609   7.495626  36.009666  199.995453  159.851730   \n",
      "1  21.557690   8.470735   6.236257  40.092930  215.368530  246.211639   \n",
      "2  55.236465   7.678082  12.695351  26.161091  148.364975  175.429840   \n",
      "3  63.905403   7.304098   4.945019  35.895721  176.976990  201.923309   \n",
      "4  20.252134  18.534565  14.552343  51.185146  207.107452  207.363754   \n",
      "\n",
      "     X4039573    X4040118  \n",
      "0  179.728821  237.281326  \n",
      "1  244.630249  251.064468  \n",
      "2  236.465469  265.728668  \n",
      "3  251.042847  241.110962  \n",
      "4  205.459976  264.380493  \n",
      "\n",
      "[5 rows x 18727 columns]\n"
     ]
    }
   ],
   "execution_count": 6
  },
  {
   "cell_type": "code",
   "outputs": [],
   "source": [
    "X, y = pr.set_target('class')"
   ],
   "metadata": {
    "collapsed": false
   },
   "id": "28f3f7684788c324",
   "execution_count": null
  },
  {
   "cell_type": "code",
   "outputs": [],
   "source": [
    "pr.remove_collinear_features(threshold=0.75)"
   ],
   "metadata": {
    "collapsed": false
   },
   "id": "a91a3cc5ea37c88c",
   "execution_count": null
  },
  {
   "cell_type": "code",
   "outputs": [],
   "source": [
    "X.head()"
   ],
   "metadata": {
    "collapsed": false
   },
   "id": "cdefb0a8384ce7bf",
   "execution_count": null
  },
  {
   "cell_type": "code",
   "outputs": [],
   "source": [
    "X = pr.normalization()\n",
    "X.head()"
   ],
   "metadata": {
    "collapsed": false
   },
   "id": "39d1a34259e3ba6",
   "execution_count": null
  },
  {
   "cell_type": "code",
   "outputs": [],
   "source": [
    "y.head()"
   ],
   "metadata": {
    "collapsed": false
   },
   "id": "34e32dce2da06400",
   "execution_count": null
  },
  {
   "cell_type": "markdown",
   "source": [
    "Feature selection"
   ],
   "metadata": {
    "collapsed": false
   },
   "id": "7f61962428315f8f"
  },
  {
   "cell_type": "markdown",
   "source": [
    "LASSO"
   ],
   "metadata": {
    "collapsed": false
   },
   "id": "8e106ab9979e105e"
  },
  {
   "cell_type": "code",
   "outputs": [],
   "source": [
    "lasso_features = fs.FeatureSelection(\n",
    "    X, \n",
    "    y,\n",
    "    method_='lasso',\n",
    "    size=100,\n",
    "    params={\n",
    "        'alpha': 0.1,\n",
    "        'fit_intercept': True,\n",
    "        'precompute': False,\n",
    "        'max_iter': 10000,\n",
    "        'tol': 0.0001,\n",
    "        'selection': 'cyclic',\n",
    "        'random_state': 42,\n",
    "    },\n",
    ")"
   ],
   "metadata": {
    "collapsed": false
   },
   "id": "f0278b9cc4b9588b",
   "execution_count": null
  },
  {
   "cell_type": "markdown",
   "source": [
    "ReliefF"
   ],
   "metadata": {
    "collapsed": false
   },
   "id": "e2b1a98bdd9d5d7e"
  },
  {
   "cell_type": "code",
   "outputs": [],
   "source": [
    "relieff_features = fs.FeatureSelection(\n",
    "    X,\n",
    "    y,\n",
    "    method_='relieff',\n",
    "    size=100,\n",
    "    params={\n",
    "        'n_neighbors': 100,\n",
    "        'n_features_to_keep': 100,\n",
    "    },\n",
    ")"
   ],
   "metadata": {
    "collapsed": false
   },
   "id": "ef788b6b026f1197",
   "execution_count": null
  },
  {
   "cell_type": "markdown",
   "source": [
    "Get profile"
   ],
   "metadata": {
    "collapsed": false
   },
   "id": "6f3456f0c9ab6206"
  },
  {
   "cell_type": "code",
   "outputs": [],
   "source": [
    "fs.get_profile(\n",
    "    return_dataframe=True,\n",
    "    organism='hsapiens',\n",
    "    query=lasso_features.features[:5],\n",
    ")"
   ],
   "metadata": {
    "collapsed": false
   },
   "id": "23901485e52d5336",
   "execution_count": null
  },
  {
   "cell_type": "markdown",
   "source": [
    "Classifier"
   ],
   "metadata": {
    "collapsed": false
   },
   "id": "b69bbb03afca38a8"
  },
  {
   "cell_type": "code",
   "outputs": [],
   "source": [
    "clf = cl.Classifier(\n",
    "    X,\n",
    "    y,\n",
    "    features=[\n",
    "        relieff_features.features,\n",
    "        lasso_features.features,\n",
    "    ],\n",
    "    classifiers=[\n",
    "        'svm',\n",
    "        'adaboost',\n",
    "        'random_forest',\n",
    "    ],\n",
    "    classifier_params=[\n",
    "        {'svm': {\n",
    "            'C': 1, 'kernel': 'linear', 'gamma': 'auto'\n",
    "            }\n",
    "        },\n",
    "        {'adaboost': {\n",
    "            'n_estimators': 100, 'learning_rate': 0.9\n",
    "            }\n",
    "        },\n",
    "        {'random_forest': {\n",
    "            'n_estimators': 100, 'criterion': 'gini', 'max_depth': None\n",
    "            }\n",
    "        },\n",
    "    ],\n",
    "    cv='stratified_k_fold',\n",
    "    cv_params={'n_splits': 10},\n",
    "    repetitions=10,\n",
    ")    "
   ],
   "metadata": {
    "collapsed": false
   },
   "id": "b66b7f6eb8d60ef2",
   "execution_count": null
  },
  {
   "cell_type": "code",
   "outputs": [],
   "source": [
    "clf.all_metrics()"
   ],
   "metadata": {
    "collapsed": false
   },
   "id": "d368c8eec015892d",
   "execution_count": null
  },
  {
   "cell_type": "code",
   "outputs": [],
   "source": [
    "clf.plot_all()"
   ],
   "metadata": {
    "collapsed": false
   },
   "id": "4e44ae1894b7857c",
   "execution_count": null
  },
  {
   "cell_type": "markdown",
   "source": [
    "Ensemble"
   ],
   "metadata": {
    "collapsed": false
   },
   "id": "4673f03de469e29b"
  },
  {
   "cell_type": "code",
   "outputs": [],
   "source": [
    "ens_voting = ens.Ensemble(\n",
    "    X,\n",
    "    y,\n",
    "    features=[\n",
    "        relieff_features.features,\n",
    "        lasso_features.features,\n",
    "    ],\n",
    "    classifiers=[\n",
    "        'adaboost',\n",
    "        'random_forest',\n",
    "        'svm',\n",
    "    ],\n",
    "    classifier_params=[\n",
    "        {'adaboost': {\n",
    "            'n_estimators': 100, 'learning_rate': 0.9,\n",
    "            }\n",
    "        },\n",
    "        {'random_forest': {\n",
    "            'n_estimators': 100, 'criterion': 'gini', 'max_depth': None,\n",
    "            }\n",
    "        },\n",
    "        {'svm': {\n",
    "            'C': 1, 'kernel': 'linear', 'gamma': 'auto'\n",
    "            }\n",
    "        },\n",
    "    ],  \n",
    "    cv='stratified_k_fold',\n",
    "    cv_params={'n_splits': 10},\n",
    "    ensemble=[\n",
    "        'voting',\n",
    "    ],\n",
    "    ensemble_params=[\n",
    "        {'voting': {\n",
    "            'voting': 'soft'\n",
    "            }\n",
    "        },\n",
    "    ],\n",
    "    repetitions=10,\n",
    ")"
   ],
   "metadata": {
    "collapsed": false
   },
   "id": "1f29fed1375f730a",
   "execution_count": null
  },
  {
   "cell_type": "code",
   "outputs": [],
   "source": [
    "ens_voting.all_metrics()"
   ],
   "metadata": {
    "collapsed": false
   },
   "id": "4c1fb6fd2f28dbd2",
   "execution_count": null
  },
  {
   "cell_type": "code",
   "outputs": [],
   "source": [
    "ens_voting.plot_all()"
   ],
   "metadata": {
    "collapsed": false
   },
   "id": "ef2426f9bf08e42f",
   "execution_count": null
  },
  {
   "cell_type": "code",
   "outputs": [],
   "source": [
    "ens_bagging = ens.Ensemble(\n",
    "    X,\n",
    "    y,\n",
    "    features=[\n",
    "        relieff_features.features,\n",
    "        lasso_features.features,\n",
    "    ],\n",
    "    classifiers=[\n",
    "        'adaboost',\n",
    "        'random_forest',\n",
    "        'svm',\n",
    "    ],\n",
    "    classifier_params=[\n",
    "        {'adaboost': {\n",
    "            'n_estimators': 100, 'learning_rate': 0.9,\n",
    "            }\n",
    "        },\n",
    "        {'random_forest': {\n",
    "            'n_estimators': 100, 'criterion': 'gini', 'max_depth': None,\n",
    "            }\n",
    "        },\n",
    "        {'svm': {\n",
    "            'C': 1, 'kernel': 'linear', 'gamma': 'auto'\n",
    "            }\n",
    "        },\n",
    "    ],  \n",
    "    cv='stratified_k_fold',\n",
    "    cv_params={'n_splits': 10},\n",
    "    ensemble=[\n",
    "        'bagging',\n",
    "    ],\n",
    "    ensemble_params=[\n",
    "        {'bagging': {\n",
    "            'estimator_name': 'random_forest', 'n_estimators': 100, 'max_samples': 0.5, 'max_features': 0.5\n",
    "            }\n",
    "        },\n",
    "    ],\n",
    "    repetitions=10,\n",
    ")"
   ],
   "metadata": {
    "collapsed": false
   },
   "id": "5973fe6352eb8696",
   "execution_count": null
  },
  {
   "cell_type": "code",
   "outputs": [],
   "source": [
    "ens_bagging.all_metrics()"
   ],
   "metadata": {
    "collapsed": false
   },
   "id": "40e10fb7f1643f14",
   "execution_count": null
  },
  {
   "cell_type": "code",
   "outputs": [],
   "source": [
    "ens_bagging.plot_all()"
   ],
   "metadata": {
    "collapsed": false
   },
   "id": "e12789ed2b7bf68c",
   "execution_count": null
  },
  {
   "cell_type": "code",
   "outputs": [],
   "source": [
    "ens_stacking = ens.Ensemble(\n",
    "    X,\n",
    "    y,\n",
    "    features=[\n",
    "        relieff_features.features,\n",
    "        lasso_features.features,\n",
    "    ],\n",
    "    classifiers=[\n",
    "        'adaboost',\n",
    "        'random_forest',\n",
    "        'svm',\n",
    "    ],\n",
    "    classifier_params=[\n",
    "        {'adaboost': {\n",
    "            'n_estimators': 100, 'learning_rate': 0.9,\n",
    "            }\n",
    "        },\n",
    "        {'random_forest': {\n",
    "            'n_estimators': 100, 'criterion': 'gini', 'max_depth': None,\n",
    "            }\n",
    "        },\n",
    "        {'svm': {\n",
    "            'C': 1, 'kernel': 'linear', 'gamma': 'auto'\n",
    "            }\n",
    "        },\n",
    "    ],  \n",
    "    cv='stratified_k_fold',\n",
    "    cv_params={'n_splits': 10},\n",
    "    ensemble=[\n",
    "        'stacking',\n",
    "    ],\n",
    "    ensemble_params=[\n",
    "        {'stacking': {\n",
    "            'final_estimator': None,\n",
    "            }\n",
    "        },\n",
    "    ],\n",
    "    repetitions=10,\n",
    ")"
   ],
   "metadata": {
    "collapsed": false
   },
   "id": "69dc736e31744d75",
   "execution_count": null
  },
  {
   "cell_type": "code",
   "outputs": [],
   "source": [
    "ens_stacking.all_metrics()"
   ],
   "metadata": {
    "collapsed": false
   },
   "id": "86370c56f89e1c3e",
   "execution_count": null
  },
  {
   "cell_type": "code",
   "outputs": [],
   "source": [
    "ens_stacking.plot_all()"
   ],
   "metadata": {
    "collapsed": false
   },
   "id": "744146d2e1bd5f26",
   "execution_count": null
  }
 ],
 "metadata": {
  "kernelspec": {
   "display_name": "Python 3",
   "language": "python",
   "name": "python3"
  },
  "language_info": {
   "codemirror_mode": {
    "name": "ipython",
    "version": 2
   },
   "file_extension": ".py",
   "mimetype": "text/x-python",
   "name": "python",
   "nbconvert_exporter": "python",
   "pygments_lexer": "ipython2",
   "version": "2.7.6"
  }
 },
 "nbformat": 4,
 "nbformat_minor": 5
}
