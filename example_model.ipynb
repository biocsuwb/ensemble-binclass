{
 "cells": [
  {
   "cell_type": "markdown",
   "source": [
    "Import package"
   ],
   "metadata": {
    "collapsed": false
   },
   "id": "28632e96f1e679ef"
  },
  {
   "cell_type": "code",
   "execution_count": 1,
   "id": "initial_id",
   "metadata": {
    "collapsed": true,
    "ExecuteTime": {
     "end_time": "2024-12-06T19:17:31.256038100Z",
     "start_time": "2024-12-06T19:17:29.573Z"
    }
   },
   "outputs": [],
   "source": [
    "import src.preprocessing as pre\n",
    "import src.featureSelection as fs\n",
    "import src.classifier as cl\n",
    "import src.ensemble as ens"
   ]
  },
  {
   "cell_type": "code",
   "outputs": [],
   "source": [
    "import numpy as np\n",
    "np.random.seed(42)"
   ],
   "metadata": {
    "collapsed": false,
    "ExecuteTime": {
     "end_time": "2024-12-06T19:17:31.264100100Z",
     "start_time": "2024-12-06T19:17:31.259037400Z"
    }
   },
   "id": "97b2c3923163558f",
   "execution_count": 2
  },
  {
   "cell_type": "code",
   "outputs": [
    {
     "name": "stdout",
     "output_type": "stream",
     "text": [
      "All columns are numeric\n",
      "   class       SFTPC      SLC6A4      CLDN18        AGER       ITLN2  \\\n",
      "0      0  1956543357  1194806369  1431426819    15756623  9202700052   \n",
      "1      0  1882400352  1212759862  1410754294  1466652971  7496015673   \n",
      "2      0   185419824   117178896  1350193883  1493867899  8440654097   \n",
      "3      0  1883454212  8590519685  1413681776  1401127311  7259752678   \n",
      "4      0   189885652  1090221599  1382853275  1586313843  9767982962   \n",
      "\n",
      "         LGI3    C13orf36      FAM83A       FABP4  ...        NEXN  \\\n",
      "0  1104918265   781892276  4642643817  1200926661  ...  9059098627   \n",
      "1  1095692946   599455936  4397002003  1340728849  ...  8334597771   \n",
      "2   974068509  7331127442  1885183866  1395746318  ...  9298702299   \n",
      "3  1083758008  4755827619  3122490507   850509221  ...    72414951   \n",
      "4  1135184185  9122156047  5235413063  1081828059  ...  9521703289   \n",
      "\n",
      "       RASSF8        NKD1     PLEKHH2        EDN2       WDR86      CHRNB4  \\\n",
      "0  9661630615  7501576879  9103011571  2953097582  4219718383   459116814   \n",
      "1  9468622007  5375091576  8509453578  5702740646  4540306306   790605243   \n",
      "2   983135887  7455911578  8642815992  6183097403  5274858001   621805735   \n",
      "3  9734491337  4948227044  8501260788  3122490507  2761646966           0   \n",
      "4  1000492591  8256334196  1013001526  1345282818  4646168419  1158789414   \n",
      "\n",
      "       RNF128    C11orf21      APOLD1  \n",
      "0  9332454634  6570503916  9026301004  \n",
      "1  9044077675  7632261671  8920244761  \n",
      "2  8867469336   551476612  9829651391  \n",
      "3  9414209755  4755827619  1011022437  \n",
      "4  1013041187  5370506078  1007872644  \n",
      "\n",
      "[5 rows x 2001 columns]\n"
     ]
    }
   ],
   "source": [
    "pr = pre.DataPreprocessing()\n",
    "pr.load_data('test_data/exampleData_TCGA_LUAD_2000.csv')\n",
    "pr.show_data()"
   ],
   "metadata": {
    "collapsed": false,
    "ExecuteTime": {
     "end_time": "2024-12-06T19:17:31.445164200Z",
     "start_time": "2024-12-06T19:17:31.264100100Z"
    }
   },
   "id": "46cef20efc2ab8b2",
   "execution_count": 3
  },
  {
   "cell_type": "code",
   "outputs": [],
   "source": [
    "X, y = pr.set_target('class')"
   ],
   "metadata": {
    "collapsed": false,
    "ExecuteTime": {
     "end_time": "2024-12-06T19:17:31.457678100Z",
     "start_time": "2024-12-06T19:17:31.444439300Z"
    }
   },
   "id": "28f3f7684788c324",
   "execution_count": 4
  },
  {
   "cell_type": "code",
   "outputs": [
    {
     "name": "stdout",
     "output_type": "stream",
     "text": [
      "Before removing collinear features: (574, 2000)\n",
      "After removing collinear features: (574, 1997)\n"
     ]
    }
   ],
   "source": [
    "print(\"Before removing collinear features:\", pr.X.shape)\n",
    "pr.remove_collinear_features(threshold=0.75)\n",
    "print(\"After removing collinear features:\", pr.X.shape)"
   ],
   "metadata": {
    "collapsed": false,
    "ExecuteTime": {
     "end_time": "2024-12-06T19:17:59.877173100Z",
     "start_time": "2024-12-06T19:17:31.462680200Z"
    }
   },
   "id": "a91a3cc5ea37c88c",
   "execution_count": 5
  },
  {
   "cell_type": "code",
   "outputs": [
    {
     "data": {
      "text/plain": "        SFTPC      SLC6A4      CLDN18        AGER       ITLN2        LGI3  \\\n0  1956543357  1194806369  1431426819    15756623  9202700052  1104918265   \n1  1882400352  1212759862  1410754294  1466652971  7496015673  1095692946   \n2   185419824   117178896  1350193883  1493867899  8440654097   974068509   \n3  1883454212  8590519685  1413681776  1401127311  7259752678  1083758008   \n4   189885652  1090221599  1382853275  1586313843  9767982962  1135184185   \n\n     C13orf36      FAM83A       FABP4        HBA1  ...        NEXN  \\\n0   781892276  4642643817  1200926661  1162513211  ...  9059098627   \n1   599455936  4397002003  1340728849  1425779439  ...  8334597771   \n2  7331127442  1885183866  1395746318  1276355899  ...  9298702299   \n3  4755827619  3122490507   850509221  1296542936  ...    72414951   \n4  9122156047  5235413063  1081828059  1200170582  ...  9521703289   \n\n       RASSF8        NKD1     PLEKHH2        EDN2       WDR86      CHRNB4  \\\n0  9661630615  7501576879  9103011571  2953097582  4219718383   459116814   \n1  9468622007  5375091576  8509453578  5702740646  4540306306   790605243   \n2   983135887  7455911578  8642815992  6183097403  5274858001   621805735   \n3  9734491337  4948227044  8501260788  3122490507  2761646966           0   \n4  1000492591  8256334196  1013001526  1345282818  4646168419  1158789414   \n\n       RNF128    C11orf21      APOLD1  \n0  9332454634  6570503916  9026301004  \n1  9044077675  7632261671  8920244761  \n2  8867469336   551476612  9829651391  \n3  9414209755  4755827619  1011022437  \n4  1013041187  5370506078  1007872644  \n\n[5 rows x 2000 columns]",
      "text/html": "<div>\n<style scoped>\n    .dataframe tbody tr th:only-of-type {\n        vertical-align: middle;\n    }\n\n    .dataframe tbody tr th {\n        vertical-align: top;\n    }\n\n    .dataframe thead th {\n        text-align: right;\n    }\n</style>\n<table border=\"1\" class=\"dataframe\">\n  <thead>\n    <tr style=\"text-align: right;\">\n      <th></th>\n      <th>SFTPC</th>\n      <th>SLC6A4</th>\n      <th>CLDN18</th>\n      <th>AGER</th>\n      <th>ITLN2</th>\n      <th>LGI3</th>\n      <th>C13orf36</th>\n      <th>FAM83A</th>\n      <th>FABP4</th>\n      <th>HBA1</th>\n      <th>...</th>\n      <th>NEXN</th>\n      <th>RASSF8</th>\n      <th>NKD1</th>\n      <th>PLEKHH2</th>\n      <th>EDN2</th>\n      <th>WDR86</th>\n      <th>CHRNB4</th>\n      <th>RNF128</th>\n      <th>C11orf21</th>\n      <th>APOLD1</th>\n    </tr>\n  </thead>\n  <tbody>\n    <tr>\n      <th>0</th>\n      <td>1956543357</td>\n      <td>1194806369</td>\n      <td>1431426819</td>\n      <td>15756623</td>\n      <td>9202700052</td>\n      <td>1104918265</td>\n      <td>781892276</td>\n      <td>4642643817</td>\n      <td>1200926661</td>\n      <td>1162513211</td>\n      <td>...</td>\n      <td>9059098627</td>\n      <td>9661630615</td>\n      <td>7501576879</td>\n      <td>9103011571</td>\n      <td>2953097582</td>\n      <td>4219718383</td>\n      <td>459116814</td>\n      <td>9332454634</td>\n      <td>6570503916</td>\n      <td>9026301004</td>\n    </tr>\n    <tr>\n      <th>1</th>\n      <td>1882400352</td>\n      <td>1212759862</td>\n      <td>1410754294</td>\n      <td>1466652971</td>\n      <td>7496015673</td>\n      <td>1095692946</td>\n      <td>599455936</td>\n      <td>4397002003</td>\n      <td>1340728849</td>\n      <td>1425779439</td>\n      <td>...</td>\n      <td>8334597771</td>\n      <td>9468622007</td>\n      <td>5375091576</td>\n      <td>8509453578</td>\n      <td>5702740646</td>\n      <td>4540306306</td>\n      <td>790605243</td>\n      <td>9044077675</td>\n      <td>7632261671</td>\n      <td>8920244761</td>\n    </tr>\n    <tr>\n      <th>2</th>\n      <td>185419824</td>\n      <td>117178896</td>\n      <td>1350193883</td>\n      <td>1493867899</td>\n      <td>8440654097</td>\n      <td>974068509</td>\n      <td>7331127442</td>\n      <td>1885183866</td>\n      <td>1395746318</td>\n      <td>1276355899</td>\n      <td>...</td>\n      <td>9298702299</td>\n      <td>983135887</td>\n      <td>7455911578</td>\n      <td>8642815992</td>\n      <td>6183097403</td>\n      <td>5274858001</td>\n      <td>621805735</td>\n      <td>8867469336</td>\n      <td>551476612</td>\n      <td>9829651391</td>\n    </tr>\n    <tr>\n      <th>3</th>\n      <td>1883454212</td>\n      <td>8590519685</td>\n      <td>1413681776</td>\n      <td>1401127311</td>\n      <td>7259752678</td>\n      <td>1083758008</td>\n      <td>4755827619</td>\n      <td>3122490507</td>\n      <td>850509221</td>\n      <td>1296542936</td>\n      <td>...</td>\n      <td>72414951</td>\n      <td>9734491337</td>\n      <td>4948227044</td>\n      <td>8501260788</td>\n      <td>3122490507</td>\n      <td>2761646966</td>\n      <td>0</td>\n      <td>9414209755</td>\n      <td>4755827619</td>\n      <td>1011022437</td>\n    </tr>\n    <tr>\n      <th>4</th>\n      <td>189885652</td>\n      <td>1090221599</td>\n      <td>1382853275</td>\n      <td>1586313843</td>\n      <td>9767982962</td>\n      <td>1135184185</td>\n      <td>9122156047</td>\n      <td>5235413063</td>\n      <td>1081828059</td>\n      <td>1200170582</td>\n      <td>...</td>\n      <td>9521703289</td>\n      <td>1000492591</td>\n      <td>8256334196</td>\n      <td>1013001526</td>\n      <td>1345282818</td>\n      <td>4646168419</td>\n      <td>1158789414</td>\n      <td>1013041187</td>\n      <td>5370506078</td>\n      <td>1007872644</td>\n    </tr>\n  </tbody>\n</table>\n<p>5 rows × 2000 columns</p>\n</div>"
     },
     "execution_count": 6,
     "metadata": {},
     "output_type": "execute_result"
    }
   ],
   "source": [
    "X.head()"
   ],
   "metadata": {
    "collapsed": false,
    "ExecuteTime": {
     "end_time": "2024-12-06T19:17:59.892894300Z",
     "start_time": "2024-12-06T19:17:59.882828400Z"
    }
   },
   "id": "cdefb0a8384ce7bf",
   "execution_count": 6
  },
  {
   "cell_type": "code",
   "outputs": [
    {
     "data": {
      "text/plain": "      SFTPC    SLC6A4    CLDN18      AGER     ITLN2      LGI3  C13orf36  \\\n0  0.196223  0.122707  0.143171  0.001183  0.928539  0.110783  0.078967   \n1  0.188787  0.124551  0.141104  0.146586  0.756337  0.109858  0.060542   \n2  0.018596  0.012034  0.135047  0.149313  0.851650  0.097664  0.740402   \n3  0.188892  0.882248  0.141397  0.140019  0.732498  0.108662  0.480311   \n4  0.019044  0.111966  0.138313  0.158578  0.985575  0.113818  0.921286   \n\n     FAM83A     FABP4      HBA1  ...      NEXN    RASSF8      NKD1   PLEKHH2  \\\n0  0.464778  0.121346  0.116256  ...  0.908280  0.966734  0.763786  0.912309   \n1  0.440187  0.135472  0.142583  ...  0.835556  0.947404  0.547188  0.852753   \n2  0.188727  0.141031  0.127640  ...  0.932332  0.097572  0.759134  0.866134   \n3  0.312595  0.085938  0.129659  ...  0.006203  0.974031  0.503709  0.851931   \n4  0.524121  0.109312  0.120022  ...  0.954716  0.099310  0.840663  0.100575   \n\n       EDN2     WDR86    CHRNB4    RNF128  C11orf21    APOLD1  \n0  0.298526  0.427345  0.061727  0.934190  0.814399  0.906958  \n1  0.576485  0.459812  0.106294  0.905300  0.946002  0.896288  \n2  0.625044  0.534203  0.083599  0.887608  0.068354  0.987774  \n3  0.315650  0.279681  0.000000  0.942380  0.589474  0.100627  \n4  0.135993  0.470533  0.155795  0.100753  0.665662  0.100310  \n\n[5 rows x 1997 columns]",
      "text/html": "<div>\n<style scoped>\n    .dataframe tbody tr th:only-of-type {\n        vertical-align: middle;\n    }\n\n    .dataframe tbody tr th {\n        vertical-align: top;\n    }\n\n    .dataframe thead th {\n        text-align: right;\n    }\n</style>\n<table border=\"1\" class=\"dataframe\">\n  <thead>\n    <tr style=\"text-align: right;\">\n      <th></th>\n      <th>SFTPC</th>\n      <th>SLC6A4</th>\n      <th>CLDN18</th>\n      <th>AGER</th>\n      <th>ITLN2</th>\n      <th>LGI3</th>\n      <th>C13orf36</th>\n      <th>FAM83A</th>\n      <th>FABP4</th>\n      <th>HBA1</th>\n      <th>...</th>\n      <th>NEXN</th>\n      <th>RASSF8</th>\n      <th>NKD1</th>\n      <th>PLEKHH2</th>\n      <th>EDN2</th>\n      <th>WDR86</th>\n      <th>CHRNB4</th>\n      <th>RNF128</th>\n      <th>C11orf21</th>\n      <th>APOLD1</th>\n    </tr>\n  </thead>\n  <tbody>\n    <tr>\n      <th>0</th>\n      <td>0.196223</td>\n      <td>0.122707</td>\n      <td>0.143171</td>\n      <td>0.001183</td>\n      <td>0.928539</td>\n      <td>0.110783</td>\n      <td>0.078967</td>\n      <td>0.464778</td>\n      <td>0.121346</td>\n      <td>0.116256</td>\n      <td>...</td>\n      <td>0.908280</td>\n      <td>0.966734</td>\n      <td>0.763786</td>\n      <td>0.912309</td>\n      <td>0.298526</td>\n      <td>0.427345</td>\n      <td>0.061727</td>\n      <td>0.934190</td>\n      <td>0.814399</td>\n      <td>0.906958</td>\n    </tr>\n    <tr>\n      <th>1</th>\n      <td>0.188787</td>\n      <td>0.124551</td>\n      <td>0.141104</td>\n      <td>0.146586</td>\n      <td>0.756337</td>\n      <td>0.109858</td>\n      <td>0.060542</td>\n      <td>0.440187</td>\n      <td>0.135472</td>\n      <td>0.142583</td>\n      <td>...</td>\n      <td>0.835556</td>\n      <td>0.947404</td>\n      <td>0.547188</td>\n      <td>0.852753</td>\n      <td>0.576485</td>\n      <td>0.459812</td>\n      <td>0.106294</td>\n      <td>0.905300</td>\n      <td>0.946002</td>\n      <td>0.896288</td>\n    </tr>\n    <tr>\n      <th>2</th>\n      <td>0.018596</td>\n      <td>0.012034</td>\n      <td>0.135047</td>\n      <td>0.149313</td>\n      <td>0.851650</td>\n      <td>0.097664</td>\n      <td>0.740402</td>\n      <td>0.188727</td>\n      <td>0.141031</td>\n      <td>0.127640</td>\n      <td>...</td>\n      <td>0.932332</td>\n      <td>0.097572</td>\n      <td>0.759134</td>\n      <td>0.866134</td>\n      <td>0.625044</td>\n      <td>0.534203</td>\n      <td>0.083599</td>\n      <td>0.887608</td>\n      <td>0.068354</td>\n      <td>0.987774</td>\n    </tr>\n    <tr>\n      <th>3</th>\n      <td>0.188892</td>\n      <td>0.882248</td>\n      <td>0.141397</td>\n      <td>0.140019</td>\n      <td>0.732498</td>\n      <td>0.108662</td>\n      <td>0.480311</td>\n      <td>0.312595</td>\n      <td>0.085938</td>\n      <td>0.129659</td>\n      <td>...</td>\n      <td>0.006203</td>\n      <td>0.974031</td>\n      <td>0.503709</td>\n      <td>0.851931</td>\n      <td>0.315650</td>\n      <td>0.279681</td>\n      <td>0.000000</td>\n      <td>0.942380</td>\n      <td>0.589474</td>\n      <td>0.100627</td>\n    </tr>\n    <tr>\n      <th>4</th>\n      <td>0.019044</td>\n      <td>0.111966</td>\n      <td>0.138313</td>\n      <td>0.158578</td>\n      <td>0.985575</td>\n      <td>0.113818</td>\n      <td>0.921286</td>\n      <td>0.524121</td>\n      <td>0.109312</td>\n      <td>0.120022</td>\n      <td>...</td>\n      <td>0.954716</td>\n      <td>0.099310</td>\n      <td>0.840663</td>\n      <td>0.100575</td>\n      <td>0.135993</td>\n      <td>0.470533</td>\n      <td>0.155795</td>\n      <td>0.100753</td>\n      <td>0.665662</td>\n      <td>0.100310</td>\n    </tr>\n  </tbody>\n</table>\n<p>5 rows × 1997 columns</p>\n</div>"
     },
     "execution_count": 7,
     "metadata": {},
     "output_type": "execute_result"
    }
   ],
   "source": [
    "X = pr.standardization()\n",
    "X.head()"
   ],
   "metadata": {
    "collapsed": false,
    "ExecuteTime": {
     "end_time": "2024-12-06T19:17:59.990611700Z",
     "start_time": "2024-12-06T19:17:59.891386500Z"
    }
   },
   "id": "39d1a34259e3ba6",
   "execution_count": 7
  },
  {
   "cell_type": "code",
   "outputs": [
    {
     "data": {
      "text/plain": "0    0\n1    0\n2    0\n3    0\n4    0\nName: class, dtype: int64"
     },
     "execution_count": 8,
     "metadata": {},
     "output_type": "execute_result"
    }
   ],
   "source": [
    "y.head()"
   ],
   "metadata": {
    "collapsed": false,
    "ExecuteTime": {
     "end_time": "2024-12-06T19:17:59.992610900Z",
     "start_time": "2024-12-06T19:17:59.937588900Z"
    }
   },
   "id": "34e32dce2da06400",
   "execution_count": 8
  },
  {
   "cell_type": "markdown",
   "source": [
    "Feature selection"
   ],
   "metadata": {
    "collapsed": false
   },
   "id": "7f61962428315f8f"
  },
  {
   "cell_type": "markdown",
   "source": [
    "LASSO"
   ],
   "metadata": {
    "collapsed": false
   },
   "id": "8e106ab9979e105e"
  },
  {
   "cell_type": "code",
   "outputs": [],
   "source": [
    "lasso_features = fs.FeatureSelection(\n",
    "    X, \n",
    "    y,\n",
    "    method_='lasso',\n",
    "    size=100,\n",
    "    params={\n",
    "        'alpha': 0.1,\n",
    "        'fit_intercept': True,\n",
    "        'precompute': False,\n",
    "        'max_iter': 10000,\n",
    "        'tol': 0.0001,\n",
    "        'selection': 'cyclic',\n",
    "        'random_state': 42,\n",
    "    },\n",
    ")"
   ],
   "metadata": {
    "collapsed": false,
    "ExecuteTime": {
     "end_time": "2024-12-06T19:18:00.037454800Z",
     "start_time": "2024-12-06T19:17:59.941728200Z"
    }
   },
   "id": "f0278b9cc4b9588b",
   "execution_count": 9
  },
  {
   "cell_type": "code",
   "outputs": [
    {
     "data": {
      "text/plain": "0      SFTPC\n1     SLC6A4\n2     CLDN18\n3       AGER\n4      ITLN2\n       ...  \n95     PITX1\n96    CLEC3B\n97     HTR3A\n98      INMT\n99      RETN\nName: Lasso, Length: 100, dtype: object"
     },
     "execution_count": 10,
     "metadata": {},
     "output_type": "execute_result"
    }
   ],
   "source": [
    "lasso_features.features"
   ],
   "metadata": {
    "collapsed": false,
    "ExecuteTime": {
     "end_time": "2024-12-06T19:18:00.038456900Z",
     "start_time": "2024-12-06T19:17:59.978406400Z"
    }
   },
   "id": "85314b5a2942aa71",
   "execution_count": 10
  },
  {
   "cell_type": "code",
   "outputs": [],
   "source": [
    "relieff_features = fs.FeatureSelection(\n",
    "    X,\n",
    "    y,\n",
    "    method_='relieff',\n",
    "    size=100,\n",
    "    params={\n",
    "        'n_neighbors': 100,\n",
    "        'n_features_to_keep': 100,\n",
    "    },\n",
    ")"
   ],
   "metadata": {
    "collapsed": false,
    "ExecuteTime": {
     "end_time": "2024-12-06T19:18:03.184977100Z",
     "start_time": "2024-12-06T19:17:59.989610500Z"
    }
   },
   "id": "ef788b6b026f1197",
   "execution_count": 11
  },
  {
   "cell_type": "code",
   "outputs": [
    {
     "data": {
      "text/plain": "0          CELA2B\n1           OR6K3\n2     CCL14-CCL15\n3           CHRM2\n4          MAGEA2\n         ...     \n95           BRDT\n96        AKR1B15\n97      LOC150622\n98       MGC27382\n99          SPERT\nName: ReliefF, Length: 100, dtype: object"
     },
     "execution_count": 12,
     "metadata": {},
     "output_type": "execute_result"
    }
   ],
   "source": [
    "relieff_features.features"
   ],
   "metadata": {
    "collapsed": false,
    "ExecuteTime": {
     "end_time": "2024-12-06T19:18:03.194721400Z",
     "start_time": "2024-12-06T19:18:03.189492900Z"
    }
   },
   "id": "28e8e4d7e9c44b6e",
   "execution_count": 12
  },
  {
   "cell_type": "markdown",
   "source": [
    "Classifier"
   ],
   "metadata": {
    "collapsed": false
   },
   "id": "b69bbb03afca38a8"
  },
  {
   "cell_type": "code",
   "outputs": [],
   "source": [
    "clf = cl.Classifier(\n",
    "    X,\n",
    "    y,\n",
    "    features=[\n",
    "        relieff_features.features,\n",
    "        lasso_features.features,\n",
    "    ],\n",
    "    classifiers=[\n",
    "        'svm',\n",
    "        'adaboost',\n",
    "        'random_forest',\n",
    "    ],\n",
    "    classifier_params=[\n",
    "        {'svm': {\n",
    "            'C': 1, 'kernel': 'linear', 'gamma': 'auto'\n",
    "            }\n",
    "        },\n",
    "        {'adaboost': {\n",
    "            'n_estimators': 100, 'learning_rate': 0.9\n",
    "            }\n",
    "        },\n",
    "        {'random_forest': {\n",
    "            'n_estimators': 100, 'criterion': 'gini', 'max_depth': None\n",
    "            }\n",
    "        },\n",
    "    ],\n",
    "    cv='stratified_k_fold',\n",
    "    cv_params={'n_splits': 10},\n",
    ")    "
   ],
   "metadata": {
    "collapsed": false,
    "ExecuteTime": {
     "end_time": "2024-12-06T19:18:13.376014300Z",
     "start_time": "2024-12-06T19:18:03.193715700Z"
    }
   },
   "id": "b66b7f6eb8d60ef2",
   "execution_count": 13
  },
  {
   "cell_type": "code",
   "outputs": [
    {
     "data": {
      "text/plain": "[\"ACC: {'svm_ReliefF': [0.984, 0.014], 'adaboost_ReliefF': [0.995, 0.011], 'random_forest_ReliefF': [0.988, 0.016], 'svm_Lasso': [0.993, 0.016], 'adaboost_Lasso': [0.995, 0.011], 'random_forest_Lasso': [0.993, 0.016]}\",\n \"Roc Auc: {'svm_ReliefF': [0.977, 0.048], 'adaboost_ReliefF': [0.99, 0.025], 'random_forest_ReliefF': [0.971, 0.074], 'svm_Lasso': [0.981, 0.053], 'adaboost_Lasso': [0.99, 0.028], 'random_forest_Lasso': [0.981, 0.053]}\",\n \"F1 score: {'svm_ReliefF': [0.991, 0.008], 'adaboost_ReliefF': [0.997, 0.006], 'random_forest_ReliefF': [0.993, 0.008], 'svm_Lasso': [0.996, 0.009], 'adaboost_Lasso': [0.997, 0.006], 'random_forest_Lasso': [0.996, 0.009]}\",\n \"MCC: {'svm_ReliefF': [0.923, 0.073], 'adaboost_ReliefF': [0.973, 0.056], 'random_forest_ReliefF': [0.934, 0.092], 'svm_Lasso': [0.962, 0.09], 'adaboost_Lasso': [0.973, 0.059], 'random_forest_Lasso': [0.962, 0.09]}\"]"
     },
     "execution_count": 14,
     "metadata": {},
     "output_type": "execute_result"
    }
   ],
   "source": [
    "clf.all_metrics()"
   ],
   "metadata": {
    "collapsed": false,
    "ExecuteTime": {
     "end_time": "2024-12-06T19:18:13.587870800Z",
     "start_time": "2024-12-06T19:18:13.392117100Z"
    }
   },
   "id": "d368c8eec015892d",
   "execution_count": 14
  },
  {
   "cell_type": "markdown",
   "source": [
    "Ensemble"
   ],
   "metadata": {
    "collapsed": false
   },
   "id": "e0c28b75e8c980f9"
  },
  {
   "cell_type": "code",
   "outputs": [],
   "source": [
    "ens_voting = ens.Ensemble(\n",
    "    X,\n",
    "    y,\n",
    "    features=[\n",
    "        relieff_features.features,\n",
    "        lasso_features.features,\n",
    "    ],\n",
    "    classifiers=[\n",
    "        'adaboost',\n",
    "        'random_forest',\n",
    "        'svm',\n",
    "    ],\n",
    "    classifier_params=[\n",
    "        {'adaboost': {\n",
    "            'n_estimators': 100, 'learning_rate': 0.9,\n",
    "            }\n",
    "        },\n",
    "        {'random_forest': {\n",
    "            'n_estimators': 100, 'criterion': 'gini', 'max_depth': None,\n",
    "            }\n",
    "        },\n",
    "        {'svm': {\n",
    "            'C': 1, 'kernel': 'linear', 'gamma': 'auto'\n",
    "            }\n",
    "        },\n",
    "    ],  \n",
    "    cv='stratified_k_fold',\n",
    "    cv_params={'n_splits': 10},\n",
    "    ensemble=[\n",
    "        'voting',\n",
    "    ],\n",
    "    ensemble_params=[\n",
    "        {'voting': {\n",
    "            'voting': 'soft'\n",
    "            }\n",
    "        },\n",
    "    ],\n",
    ")"
   ],
   "metadata": {
    "collapsed": false,
    "ExecuteTime": {
     "end_time": "2024-12-06T19:18:30.088858400Z",
     "start_time": "2024-12-06T19:18:13.590874100Z"
    }
   },
   "id": "1f29fed1375f730a",
   "execution_count": 15
  },
  {
   "cell_type": "code",
   "outputs": [
    {
     "data": {
      "text/plain": "[\"ACC: {'voting_ReliefF': [0.993, 0.009], 'voting_Lasso': [0.993, 0.016]}\",\n \"Roc Auc: {'voting_ReliefF': [0.989, 0.024], 'voting_Lasso': [0.981, 0.053]}\",\n \"F1 score: {'voting_ReliefF': [0.996, 0.005], 'voting_Lasso': [0.996, 0.009]}\",\n \"MCC: {'voting_ReliefF': [0.964, 0.044], 'voting_Lasso': [0.962, 0.09]}\"]"
     },
     "execution_count": 16,
     "metadata": {},
     "output_type": "execute_result"
    }
   ],
   "source": [
    "ens_voting.all_metrics()"
   ],
   "metadata": {
    "collapsed": false,
    "ExecuteTime": {
     "end_time": "2024-12-06T19:18:30.167583500Z",
     "start_time": "2024-12-06T19:18:30.111029500Z"
    }
   },
   "id": "4c1fb6fd2f28dbd2",
   "execution_count": 16
  },
  {
   "cell_type": "code",
   "outputs": [],
   "source": [
    "ens_bagging = ens.Ensemble(\n",
    "    X,\n",
    "    y,\n",
    "    features=[\n",
    "        relieff_features.features,\n",
    "        lasso_features.features,\n",
    "    ],\n",
    "    classifiers=[\n",
    "        'adaboost',\n",
    "        'random_forest',\n",
    "        'svm',\n",
    "    ],\n",
    "    classifier_params=[\n",
    "        {'adaboost': {\n",
    "            'n_estimators': 100, 'learning_rate': 0.9,\n",
    "            }\n",
    "        },\n",
    "        {'random_forest': {\n",
    "            'n_estimators': 100, 'criterion': 'gini', 'max_depth': None,\n",
    "            }\n",
    "        },\n",
    "        {'svm': {\n",
    "            'C': 1, 'kernel': 'linear', 'gamma': 'auto'\n",
    "            }\n",
    "        },\n",
    "    ],  \n",
    "    cv='stratified_k_fold',\n",
    "    cv_params={'n_splits': 10},\n",
    "    ensemble=[\n",
    "        'bagging',\n",
    "    ],\n",
    "    ensemble_params=[\n",
    "        {'bagging': {\n",
    "            'estimator_name': 'random_forest', 'n_estimators': 100, 'max_samples': 0.5, 'max_features': 0.5\n",
    "            }\n",
    "        },\n",
    "    ],\n",
    ")"
   ],
   "metadata": {
    "collapsed": false,
    "ExecuteTime": {
     "end_time": "2024-12-06T19:21:55.570361500Z",
     "start_time": "2024-12-06T19:18:30.170585100Z"
    }
   },
   "id": "5973fe6352eb8696",
   "execution_count": 17
  },
  {
   "cell_type": "code",
   "outputs": [
    {
     "data": {
      "text/plain": "[\"ACC: {'bagging_ReliefF': [0.99, 0.016], 'bagging_Lasso': [0.988, 0.02]}\",\n \"Roc Auc: {'bagging_ReliefF': [0.965, 0.076], 'bagging_Lasso': [0.964, 0.078]}\",\n \"F1 score: {'bagging_ReliefF': [0.994, 0.009], 'bagging_Lasso': [0.993, 0.011]}\",\n \"MCC: {'bagging_ReliefF': [0.941, 0.094], 'bagging_Lasso': [0.932, 0.124]}\"]"
     },
     "execution_count": 18,
     "metadata": {},
     "output_type": "execute_result"
    }
   ],
   "source": [
    "ens_bagging.all_metrics()"
   ],
   "metadata": {
    "collapsed": false,
    "ExecuteTime": {
     "end_time": "2024-12-06T19:21:55.647548400Z",
     "start_time": "2024-12-06T19:21:55.571362100Z"
    }
   },
   "id": "40e10fb7f1643f14",
   "execution_count": 18
  },
  {
   "cell_type": "code",
   "outputs": [],
   "source": [
    "ens_stacking = ens.Ensemble(\n",
    "    X,\n",
    "    y,\n",
    "    features=[\n",
    "        relieff_features.features,\n",
    "        lasso_features.features,\n",
    "    ],\n",
    "    classifiers=[\n",
    "        'adaboost',\n",
    "        'random_forest',\n",
    "        'svm',\n",
    "    ],\n",
    "    classifier_params=[\n",
    "        {'adaboost': {\n",
    "            'n_estimators': 100, 'learning_rate': 0.9,\n",
    "            }\n",
    "        },\n",
    "        {'random_forest': {\n",
    "            'n_estimators': 100, 'criterion': 'gini', 'max_depth': None,\n",
    "            }\n",
    "        },\n",
    "        {'svm': {\n",
    "            'C': 1, 'kernel': 'linear', 'gamma': 'auto'\n",
    "            }\n",
    "        },\n",
    "    ],  \n",
    "    cv='stratified_k_fold',\n",
    "    cv_params={'n_splits': 10},\n",
    "    ensemble=[\n",
    "        'stacking',\n",
    "    ],\n",
    "    ensemble_params=[\n",
    "        {'stacking': {\n",
    "            'final_estimator': None,\n",
    "            }\n",
    "        },\n",
    "    ],\n",
    ")"
   ],
   "metadata": {
    "collapsed": false,
    "ExecuteTime": {
     "end_time": "2024-12-06T19:23:17.588586Z",
     "start_time": "2024-12-06T19:21:55.648552100Z"
    }
   },
   "id": "69dc736e31744d75",
   "execution_count": 19
  },
  {
   "cell_type": "code",
   "outputs": [
    {
     "data": {
      "text/plain": "[\"ACC: {'stacking_ReliefF': [0.988, 0.02], 'stacking_Lasso': [0.995, 0.011]}\",\n \"Roc Auc: {'stacking_ReliefF': [0.964, 0.099], 'stacking_Lasso': [0.982, 0.05]}\",\n \"F1 score: {'stacking_ReliefF': [0.993, 0.011], 'stacking_Lasso': [0.997, 0.006]}\",\n \"MCC: {'stacking_ReliefF': [0.929, 0.13], 'stacking_Lasso': [0.972, 0.062]}\"]"
     },
     "execution_count": 20,
     "metadata": {},
     "output_type": "execute_result"
    }
   ],
   "source": [
    "ens_stacking.all_metrics()"
   ],
   "metadata": {
    "collapsed": false,
    "ExecuteTime": {
     "end_time": "2024-12-06T19:23:17.653792900Z",
     "start_time": "2024-12-06T19:23:17.589586700Z"
    }
   },
   "id": "86370c56f89e1c3e",
   "execution_count": 20
  }
 ],
 "metadata": {
  "kernelspec": {
   "display_name": "Python 3",
   "language": "python",
   "name": "python3"
  },
  "language_info": {
   "codemirror_mode": {
    "name": "ipython",
    "version": 2
   },
   "file_extension": ".py",
   "mimetype": "text/x-python",
   "name": "python",
   "nbconvert_exporter": "python",
   "pygments_lexer": "ipython2",
   "version": "2.7.6"
  }
 },
 "nbformat": 4,
 "nbformat_minor": 5
}
