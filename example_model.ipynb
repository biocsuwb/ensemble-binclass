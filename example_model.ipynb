{
 "cells": [
  {
   "cell_type": "markdown",
   "source": [
    "Import package"
   ],
   "metadata": {
    "collapsed": false
   },
   "id": "28632e96f1e679ef"
  },
  {
   "cell_type": "code",
   "outputs": [],
   "source": [
    "from ensbinclass import preprocessing as pre\n",
    "from ensbinclass import featureSelection as fs\n",
    "from ensbinclass import classifier as cl\n",
    "from ensbinclass import ensemble as ens "
   ],
   "metadata": {
    "collapsed": false
   },
   "id": "31612dab19136467",
   "execution_count": null
  },
  {
   "cell_type": "code",
   "outputs": [],
   "source": [
    "import numpy as np\n",
    "np.random.seed(42)"
   ],
   "metadata": {
    "collapsed": false
   },
   "id": "97b2c3923163558f",
   "execution_count": null
  },
  {
   "cell_type": "code",
   "outputs": [],
   "source": [
    "pr = pre.DataPreprocessing()\n",
    "pr.load_data('test_data/exampleData_TCGA_LUAD_2000.csv')\n",
    "pr.show_data()"
   ],
   "metadata": {
    "collapsed": false
   },
   "id": "46cef20efc2ab8b2",
   "execution_count": null
  },
  {
   "cell_type": "code",
   "outputs": [],
   "source": [
    "X, y = pr.set_target('class')"
   ],
   "metadata": {
    "collapsed": false
   },
   "id": "28f3f7684788c324",
   "execution_count": null
  },
  {
   "cell_type": "code",
   "outputs": [],
   "source": [
    "pr.remove_collinear_features(threshold=0.75)"
   ],
   "metadata": {
    "collapsed": false
   },
   "id": "a91a3cc5ea37c88c",
   "execution_count": null
  },
  {
   "cell_type": "code",
   "outputs": [],
   "source": [
    "X.head()"
   ],
   "metadata": {
    "collapsed": false
   },
   "id": "cdefb0a8384ce7bf",
   "execution_count": null
  },
  {
   "cell_type": "code",
   "outputs": [],
   "source": [
    "X = pr.normalization()\n",
    "X.head()"
   ],
   "metadata": {
    "collapsed": false
   },
   "id": "39d1a34259e3ba6",
   "execution_count": null
  },
  {
   "cell_type": "code",
   "outputs": [],
   "source": [
    "y.head()"
   ],
   "metadata": {
    "collapsed": false
   },
   "id": "34e32dce2da06400",
   "execution_count": null
  },
  {
   "cell_type": "markdown",
   "source": [
    "Feature selection"
   ],
   "metadata": {
    "collapsed": false
   },
   "id": "7f61962428315f8f"
  },
  {
   "cell_type": "markdown",
   "source": [
    "LASSO"
   ],
   "metadata": {
    "collapsed": false
   },
   "id": "8e106ab9979e105e"
  },
  {
   "cell_type": "code",
   "outputs": [],
   "source": [
    "lasso_features = fs.FeatureSelection(\n",
    "    X, \n",
    "    y,\n",
    "    method_='lasso',\n",
    "    size=100,\n",
    "    params={\n",
    "        'alpha': 0.1,\n",
    "        'fit_intercept': True,\n",
    "        'precompute': False,\n",
    "        'max_iter': 10000,\n",
    "        'tol': 0.0001,\n",
    "        'selection': 'cyclic',\n",
    "        'random_state': 42,\n",
    "    },\n",
    ")"
   ],
   "metadata": {
    "collapsed": false
   },
   "id": "f0278b9cc4b9588b",
   "execution_count": null
  },
  {
   "cell_type": "markdown",
   "source": [
    "ReliefF"
   ],
   "metadata": {
    "collapsed": false
   },
   "id": "e2b1a98bdd9d5d7e"
  },
  {
   "cell_type": "code",
   "outputs": [],
   "source": [
    "relieff_features = fs.FeatureSelection(\n",
    "    X,\n",
    "    y,\n",
    "    method_='relieff',\n",
    "    size=100,\n",
    "    params={\n",
    "        'n_neighbors': 100,\n",
    "        'n_features_to_keep': 100,\n",
    "    },\n",
    ")"
   ],
   "metadata": {
    "collapsed": false
   },
   "id": "ef788b6b026f1197",
   "execution_count": null
  },
  {
   "cell_type": "markdown",
   "source": [
    "Get profile"
   ],
   "metadata": {
    "collapsed": false
   },
   "id": "6f3456f0c9ab6206"
  },
  {
   "cell_type": "code",
   "outputs": [],
   "source": [
    "fs.get_profile(\n",
    "    return_dataframe=True,\n",
    "    organism='hsapiens',\n",
    "    query=lasso_features.features[:5],\n",
    ")"
   ],
   "metadata": {
    "collapsed": false
   },
   "id": "23901485e52d5336",
   "execution_count": null
  },
  {
   "cell_type": "markdown",
   "source": [
    "Classifier"
   ],
   "metadata": {
    "collapsed": false
   },
   "id": "b69bbb03afca38a8"
  },
  {
   "cell_type": "code",
   "outputs": [],
   "source": [
    "clf = cl.Classifier(\n",
    "    X,\n",
    "    y,\n",
    "    features=[\n",
    "        relieff_features.features,\n",
    "        lasso_features.features,\n",
    "    ],\n",
    "    classifiers=[\n",
    "        'svm',\n",
    "        'adaboost',\n",
    "        'random_forest',\n",
    "    ],\n",
    "    classifier_params=[\n",
    "        {'svm': {\n",
    "            'C': 1, 'kernel': 'linear', 'gamma': 'auto'\n",
    "            }\n",
    "        },\n",
    "        {'adaboost': {\n",
    "            'n_estimators': 100, 'learning_rate': 0.9\n",
    "            }\n",
    "        },\n",
    "        {'random_forest': {\n",
    "            'n_estimators': 100, 'criterion': 'gini', 'max_depth': None\n",
    "            }\n",
    "        },\n",
    "    ],\n",
    "    cv='stratified_k_fold',\n",
    "    cv_params={'n_splits': 10},\n",
    "    repetitions=10,\n",
    ")    "
   ],
   "metadata": {
    "collapsed": false
   },
   "id": "b66b7f6eb8d60ef2",
   "execution_count": null
  },
  {
   "cell_type": "code",
   "outputs": [],
   "source": [
    "clf.all_metrics()"
   ],
   "metadata": {
    "collapsed": false
   },
   "id": "d368c8eec015892d",
   "execution_count": null
  },
  {
   "cell_type": "code",
   "outputs": [],
   "source": [
    "clf.plot_all()"
   ],
   "metadata": {
    "collapsed": false
   },
   "id": "4e44ae1894b7857c",
   "execution_count": null
  },
  {
   "cell_type": "markdown",
   "source": [
    "Ensemble"
   ],
   "metadata": {
    "collapsed": false
   },
   "id": "4673f03de469e29b"
  },
  {
   "cell_type": "code",
   "outputs": [],
   "source": [
    "ens_voting = ens.Ensemble(\n",
    "    X,\n",
    "    y,\n",
    "    features=[\n",
    "        relieff_features.features,\n",
    "        lasso_features.features,\n",
    "    ],\n",
    "    classifiers=[\n",
    "        'adaboost',\n",
    "        'random_forest',\n",
    "        'svm',\n",
    "    ],\n",
    "    classifier_params=[\n",
    "        {'adaboost': {\n",
    "            'n_estimators': 100, 'learning_rate': 0.9,\n",
    "            }\n",
    "        },\n",
    "        {'random_forest': {\n",
    "            'n_estimators': 100, 'criterion': 'gini', 'max_depth': None,\n",
    "            }\n",
    "        },\n",
    "        {'svm': {\n",
    "            'C': 1, 'kernel': 'linear', 'gamma': 'auto'\n",
    "            }\n",
    "        },\n",
    "    ],  \n",
    "    cv='stratified_k_fold',\n",
    "    cv_params={'n_splits': 10},\n",
    "    ensemble=[\n",
    "        'voting',\n",
    "    ],\n",
    "    ensemble_params=[\n",
    "        {'voting': {\n",
    "            'voting': 'soft'\n",
    "            }\n",
    "        },\n",
    "    ],\n",
    "    repetitions=10,\n",
    ")"
   ],
   "metadata": {
    "collapsed": false
   },
   "id": "1f29fed1375f730a",
   "execution_count": null
  },
  {
   "cell_type": "code",
   "outputs": [],
   "source": [
    "ens_voting.all_metrics()"
   ],
   "metadata": {
    "collapsed": false
   },
   "id": "4c1fb6fd2f28dbd2",
   "execution_count": null
  },
  {
   "cell_type": "code",
   "outputs": [],
   "source": [
    "ens_voting.plot_all()"
   ],
   "metadata": {
    "collapsed": false
   },
   "id": "ef2426f9bf08e42f",
   "execution_count": null
  },
  {
   "cell_type": "code",
   "outputs": [],
   "source": [
    "ens_bagging = ens.Ensemble(\n",
    "    X,\n",
    "    y,\n",
    "    features=[\n",
    "        relieff_features.features,\n",
    "        lasso_features.features,\n",
    "    ],\n",
    "    classifiers=[\n",
    "        'adaboost',\n",
    "        'random_forest',\n",
    "        'svm',\n",
    "    ],\n",
    "    classifier_params=[\n",
    "        {'adaboost': {\n",
    "            'n_estimators': 100, 'learning_rate': 0.9,\n",
    "            }\n",
    "        },\n",
    "        {'random_forest': {\n",
    "            'n_estimators': 100, 'criterion': 'gini', 'max_depth': None,\n",
    "            }\n",
    "        },\n",
    "        {'svm': {\n",
    "            'C': 1, 'kernel': 'linear', 'gamma': 'auto'\n",
    "            }\n",
    "        },\n",
    "    ],  \n",
    "    cv='stratified_k_fold',\n",
    "    cv_params={'n_splits': 10},\n",
    "    ensemble=[\n",
    "        'bagging',\n",
    "    ],\n",
    "    ensemble_params=[\n",
    "        {'bagging': {\n",
    "            'estimator_name': 'random_forest', 'n_estimators': 100, 'max_samples': 0.5, 'max_features': 0.5\n",
    "            }\n",
    "        },\n",
    "    ],\n",
    "    repetitions=10,\n",
    ")"
   ],
   "metadata": {
    "collapsed": false
   },
   "id": "5973fe6352eb8696",
   "execution_count": null
  },
  {
   "cell_type": "code",
   "outputs": [],
   "source": [
    "ens_bagging.all_metrics()"
   ],
   "metadata": {
    "collapsed": false
   },
   "id": "40e10fb7f1643f14",
   "execution_count": null
  },
  {
   "cell_type": "code",
   "outputs": [],
   "source": [
    "ens_bagging.plot_all()"
   ],
   "metadata": {
    "collapsed": false
   },
   "id": "e12789ed2b7bf68c",
   "execution_count": null
  },
  {
   "cell_type": "code",
   "outputs": [],
   "source": [
    "ens_stacking = ens.Ensemble(\n",
    "    X,\n",
    "    y,\n",
    "    features=[\n",
    "        relieff_features.features,\n",
    "        lasso_features.features,\n",
    "    ],\n",
    "    classifiers=[\n",
    "        'adaboost',\n",
    "        'random_forest',\n",
    "        'svm',\n",
    "    ],\n",
    "    classifier_params=[\n",
    "        {'adaboost': {\n",
    "            'n_estimators': 100, 'learning_rate': 0.9,\n",
    "            }\n",
    "        },\n",
    "        {'random_forest': {\n",
    "            'n_estimators': 100, 'criterion': 'gini', 'max_depth': None,\n",
    "            }\n",
    "        },\n",
    "        {'svm': {\n",
    "            'C': 1, 'kernel': 'linear', 'gamma': 'auto'\n",
    "            }\n",
    "        },\n",
    "    ],  \n",
    "    cv='stratified_k_fold',\n",
    "    cv_params={'n_splits': 10},\n",
    "    ensemble=[\n",
    "        'stacking',\n",
    "    ],\n",
    "    ensemble_params=[\n",
    "        {'stacking': {\n",
    "            'final_estimator': None,\n",
    "            }\n",
    "        },\n",
    "    ],\n",
    "    repetitions=10,\n",
    ")"
   ],
   "metadata": {
    "collapsed": false
   },
   "id": "69dc736e31744d75",
   "execution_count": null
  },
  {
   "cell_type": "code",
   "outputs": [],
   "source": [
    "ens_stacking.all_metrics()"
   ],
   "metadata": {
    "collapsed": false
   },
   "id": "86370c56f89e1c3e",
   "execution_count": null
  },
  {
   "cell_type": "code",
   "outputs": [],
   "source": [
    "ens_stacking.plot_all()"
   ],
   "metadata": {
    "collapsed": false
   },
   "id": "744146d2e1bd5f26",
   "execution_count": null
  }
 ],
 "metadata": {
  "kernelspec": {
   "display_name": "Python 3",
   "language": "python",
   "name": "python3"
  },
  "language_info": {
   "codemirror_mode": {
    "name": "ipython",
    "version": 2
   },
   "file_extension": ".py",
   "mimetype": "text/x-python",
   "name": "python",
   "nbconvert_exporter": "python",
   "pygments_lexer": "ipython2",
   "version": "2.7.6"
  }
 },
 "nbformat": 4,
 "nbformat_minor": 5
}
